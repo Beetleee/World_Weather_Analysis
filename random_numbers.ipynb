{
 "cells": [
  {
   "cell_type": "code",
   "execution_count": 1,
   "id": "abb88ade",
   "metadata": {},
   "outputs": [],
   "source": [
    "# Import the random module.\n",
    "import random"
   ]
  },
  {
   "cell_type": "code",
   "execution_count": 3,
   "id": "8d06bc2a",
   "metadata": {},
   "outputs": [
    {
     "data": {
      "text/plain": [
       "-30"
      ]
     },
     "execution_count": 3,
     "metadata": {},
     "output_type": "execute_result"
    }
   ],
   "source": [
    "random.randint(-90,90)"
   ]
  },
  {
   "cell_type": "code",
   "execution_count": 5,
   "id": "2c9bb59a",
   "metadata": {},
   "outputs": [],
   "source": [
    "#Assign the variable x to 1.\n",
    "x = 1\n",
    "#Initialize an empty list, latitudes.\n",
    "latitudes = []\n",
    "#We create a while loop where we generate a random latitude and add it to the list.\n",
    "while x < 11:\n",
    "#After the random latitude is added to the list we add one to the variable \"x\".\n",
    "    random_lat = random.randint(-90, 89) + random.random()\n",
    "#The while loop condition is checked again and will continue to run as long as x is less than 11.\n",
    "    latitudes.append(random_lat)\n",
    "    x += 1"
   ]
  },
  {
   "cell_type": "code",
   "execution_count": 6,
   "id": "713d57d2",
   "metadata": {},
   "outputs": [],
   "source": [
    "# Import the NumPy module.\n",
    "import numpy as np"
   ]
  },
  {
   "cell_type": "code",
   "execution_count": 8,
   "id": "c61ca516",
   "metadata": {},
   "outputs": [
    {
     "data": {
      "text/plain": [
       "array([-33.68877984,   7.36660019, -88.81624377,   1.1843135 ,\n",
       "        34.2818118 ,  12.52470153,  50.54165149, -71.29101891,\n",
       "       -46.95084591, -88.42530293,  -8.70598344, -84.68730479,\n",
       "        78.20287063,  -3.43952115,   6.96264957,  32.08572041,\n",
       "        37.85033319, -46.58881613,  44.69042108,  -8.75893695,\n",
       "        39.44427197, -60.50931856,  15.14161627,  64.69333961,\n",
       "         4.39298282,  -1.03720859,   9.89732317, -55.01015482,\n",
       "       -26.96889567, -55.72929992,  -0.20930334, -70.35925906,\n",
       "       -25.52653546,  45.55513627, -89.17929333, -22.18270483,\n",
       "       -72.11388829,  63.25851722, -85.9942417 , -88.25492986,\n",
       "        38.50242052,  86.62224519,  71.72337275,   3.55079334,\n",
       "       -63.81427839, -64.52576813, -61.63890133,  65.65203181,\n",
       "       -19.46772233, -33.30746263])"
      ]
     },
     "execution_count": 8,
     "metadata": {},
     "output_type": "execute_result"
    }
   ],
   "source": [
    "np.random.uniform(-90.000,90.000,size=50)"
   ]
  },
  {
   "cell_type": "code",
   "execution_count": 9,
   "id": "16dba6ad",
   "metadata": {},
   "outputs": [],
   "source": [
    "# Import timeit.\n",
    "import timeit"
   ]
  },
  {
   "cell_type": "code",
   "execution_count": 10,
   "id": "f70a4c63",
   "metadata": {},
   "outputs": [
    {
     "name": "stdout",
     "output_type": "stream",
     "text": [
      "14.7 µs ± 130 ns per loop (mean ± std. dev. of 7 runs, 100000 loops each)\n"
     ]
    }
   ],
   "source": [
    "%timeit np.random.uniform(-90.000, 90.000, size=1500)"
   ]
  },
  {
   "cell_type": "code",
   "execution_count": 11,
   "id": "4bbc6cac",
   "metadata": {},
   "outputs": [
    {
     "name": "stdout",
     "output_type": "stream",
     "text": [
      "3.27 ms ± 17.9 µs per loop (mean ± std. dev. of 7 runs, 100 loops each)\n"
     ]
    }
   ],
   "source": [
    "def latitudes(size):\n",
    "    latitudes = []\n",
    "    x = 0\n",
    "    while x < (size):\n",
    "        random_lat = random.randint(-90, 90) + random.random()\n",
    "        latitudes.append(random_lat)\n",
    "        x += 1\n",
    "    return latitudes\n",
    "# Call the function with 1500.\n",
    "%timeit latitudes(1500)"
   ]
  },
  {
   "cell_type": "code",
   "execution_count": null,
   "id": "67edf92d",
   "metadata": {},
   "outputs": [],
   "source": []
  }
 ],
 "metadata": {
  "kernelspec": {
   "display_name": "PythonData",
   "language": "python",
   "name": "pythondata"
  },
  "language_info": {
   "codemirror_mode": {
    "name": "ipython",
    "version": 3
   },
   "file_extension": ".py",
   "mimetype": "text/x-python",
   "name": "python",
   "nbconvert_exporter": "python",
   "pygments_lexer": "ipython3",
   "version": "3.7.11"
  }
 },
 "nbformat": 4,
 "nbformat_minor": 5
}
